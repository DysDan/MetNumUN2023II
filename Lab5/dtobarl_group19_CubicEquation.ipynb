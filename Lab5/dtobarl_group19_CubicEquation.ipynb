{
  "nbformat": 4,
  "nbformat_minor": 0,
  "metadata": {
    "colab": {
      "provenance": [],
      "include_colab_link": true
    },
    "kernelspec": {
      "name": "python3",
      "display_name": "Python 3"
    },
    "language_info": {
      "name": "python"
    }
  },
  "cells": [
    {
      "cell_type": "markdown",
      "metadata": {
        "id": "view-in-github",
        "colab_type": "text"
      },
      "source": [
        "<a href=\"https://colab.research.google.com/github/dtobarl/MetNumUN2023II/blob/main/Lab5/dtobarl_group19_CubicEquation.ipynb\" target=\"_parent\"><img src=\"https://colab.research.google.com/assets/colab-badge.svg\" alt=\"Open In Colab\"/></a>"
      ]
    },
    {
      "cell_type": "markdown",
      "source": [
        "Modify [week_1_quadratic_Po_Shen_Loh.ipyn](https://colab.research.google.com/drive/15vXGB18_np6o0Rw8ZV4o08RTdCdDIdT0?usp=sharing) for\n",
        "\n",
        "$$ ax^3+bx^2+cx +d = 0$$\n",
        "\n",
        "using Cubic equation – Cardano–Tartaglia formula- [wikipedia](https://en.wikipedia.org/wiki/Cubic_equation)\n",
        "\n",
        "Asuume $a=1$ then work wequations are of the form\n",
        "\n",
        "$$ x^3+bx^2+cx +d = 0$$\n",
        "\n",
        "Including expalnataions. plots, solution code and test cases\n",
        "\n"
      ],
      "metadata": {
        "id": "q5PfhUy3iXZi"
      }
    },
    {
      "cell_type": "code",
      "source": [
        "def cubic(b,c,d,x):\n",
        "    \"\"\"Calulate the value of the  qubic equation, v = x**3 + bx**2 + c*x +d\n",
        "\n",
        "    Parameters\n",
        "    ----------\n",
        "    b, c,d  : float\n",
        "       Coefficients\n",
        "    Returns\n",
        "    -------\n",
        "    v : float \"\"\"\n",
        "    # ... enter your code here ...\n",
        "    v = x**3 + b*(x**2) + c*(x) + d\n",
        "    return v"
      ],
      "metadata": {
        "id": "2etHLiNplRC_"
      },
      "execution_count": null,
      "outputs": []
    },
    {
      "cell_type": "code",
      "execution_count": null,
      "metadata": {
        "id": "o99NfjpaiThf"
      },
      "outputs": [],
      "source": [
        "import math\n",
        "def solve_cubic(b, c,d):\n",
        "    \"\"\"Solve a cubic equation, x**3 + bx**2 + c*x +d = 0.\n",
        "\n",
        "    Parameters\n",
        "    ----------\n",
        "    b, c,d : float\n",
        "       Coefficients\n",
        "\n",
        "    Returns\n",
        "    -------\n",
        "    x1, x2,x3 : float or complex\n",
        "       Roots.  \"\"\"\n",
        "\n",
        "    # ... enter your code here ...\n",
        "\n",
        "\n",
        "\n",
        "\n",
        "    return x1,x2,x3"
      ]
    },
    {
      "cell_type": "code",
      "source": [
        "import math\n",
        "import numpy as np\n",
        "\n",
        "def solve(b, c, d):\n",
        "\n",
        "    p = findP(b, c)                          # Helper Temporary Variable\n",
        "    q = findQ(b, c, d)                       # Helper Temporary Variable\n",
        "    discriminant = findH(p, q)                             # Helper Temporary Variable\n",
        "\n",
        "    if p == 0 and q == 0 and discriminant == 0:            # All 3 Roots are Real and Equal\n",
        "        if d >= 0:\n",
        "            x = (d / 1) ** (1 / 3) * -1\n",
        "        else:\n",
        "            x = (-d / 1) ** (1 / 3)\n",
        "        return np.array([x, x, x])              # Returning Equal Roots as numpy array.\n",
        "\n",
        "    elif discriminant <= 0:                                # All 3 roots are Real\n",
        "\n",
        "        i = math.sqrt(((q ** 2) / 4) - discriminant)   # Helper Temporary Variable\n",
        "        j = i ** (1 / 3.0)                      # Helper Temporary Variable\n",
        "        k = math.acos(-(q / (2 * i)))           # Helper Temporary Variable\n",
        "        L = j * -1                              # Helper Temporary Variable\n",
        "        M = math.cos(k / 3)                   # Helper Temporary Variable\n",
        "        N = math.sqrt(3) * math.sin(k / 3)    # Helper Temporary Variable\n",
        "        P = (b / 3) * -1                # Helper Temporary Variable\n",
        "\n",
        "        x1 = 2 * j * math.cos(k / 3) - (b / 3)\n",
        "        x2 = L * (M + N) + P\n",
        "        x3 = L * (M - N) + P\n",
        "\n",
        "        return np.array([x1, x2, x3])           # Returning Real Roots as numpy array.\n",
        "\n",
        "    elif discriminant > 0:                                 # One Real Root and two Complex Roots\n",
        "        u_1 = -(q / 2) + math.sqrt(discriminant)           # Helper Temporary Variable\n",
        "        if u_1 >= 0:\n",
        "            u = u_1 ** (1 / 3)                  # Helper Temporary Variable\n",
        "        else:\n",
        "            S = (-u_1) ** (1 / 3) * -1          # Helper Temporary Variable\n",
        "        v_1 = -(q / 2) - math.sqrt(discriminant)\n",
        "        if v_1 >= 0:\n",
        "            v = (v_1 ** (1 / 3.0))                # Helper Temporary Variable\n",
        "        else:\n",
        "            v= ((-v_1) ** (1 / 3.0)) * -1        # Helper Temporary Variable\n",
        "\n",
        "        x1 = (u + v) - (b / 3)\n",
        "        x2 = -(S + U) / 2 - (b / 3) + (S - U) * math.sqrt(3) * 0.5j\n",
        "        x3 = -(S + U) / 2 - (b / 3) - (S - U) * math.sqrt(3) * 0.5j\n",
        "\n",
        "        return np.array([x1, x2, x3])           # Returning One Real Root and two Complex Roots as numpy array.\n",
        "\n",
        "\n",
        "# Helper function to return float value of f.\n",
        "def findP(a, b, c):\n",
        "    return ((3*a)-(b**2))/3\n",
        "\n",
        "# Helper function to return float value of g.\n",
        "def findQ(b, c, d):\n",
        "    return ((2*(b**3))-(9*b*c)+(27*d))/27\n",
        "\n",
        "# Helper function to return float value of h.\n",
        "def findH(g, f):\n",
        "    return ((g ** 2) / 4 + (f ** 3) / 27)"
      ],
      "metadata": {
        "id": "pQvpaTIeyBM9"
      },
      "execution_count": null,
      "outputs": []
    },
    {
      "cell_type": "markdown",
      "source": [
        "Bulit test cases that include\n",
        "\n",
        "$$x^3 =1,$$\n",
        "\n",
        "$$(x-1)^3 = x^3 - 3 x^2 + 3 x - 1,$$\n",
        "\n",
        "$$(x-1)(x-i)(x+i) = x^3 - x^2 + x - 1, $$\n",
        "three real diferent roots,  roots in the last digits of the group members, root of mtiuplicity two, and complex roots with small and large $b$.\n",
        "\n",
        "**Last digits:**"
      ],
      "metadata": {
        "id": "BpvJhj5Zl2lI"
      }
    },
    {
      "cell_type": "code",
      "source": [
        "from numpy import allclose\n",
        "\n",
        "variants = [{'b': 0.0, 'c': 0.0, 'd': 0.0},\n",
        "            {'b': -3.0, 'c': 3.0, , 'd':-1.0},\n",
        "            {'b': -1.0, 'c': 1.0, , 'd':-1.0},]\n",
        "\n",
        "for var in variants:\n",
        "    x1, x2, x3= solve_cubic(**var)\n",
        "    print(allclose(cubic(var['b'],var['c'],var['d'],x1), 0.0) and allclose(cubic(var['b'],var['c'],var['d'],x2), 0.0) and  allclose(cubic(var['b'],var['c'],var['d'],x3), 0.0))"
      ],
      "metadata": {
        "id": "8fjriYmkmHOw"
      },
      "execution_count": null,
      "outputs": []
    },
    {
      "cell_type": "markdown",
      "source": [
        " Publisth the notebook in as **pperezp_groupN_CubicEquation.ipynb** at **MetNumUN2023II/Lab5** and submit only the code of **solve_cubic(b, c,d)** in UNcode Quiz Cubic Equation."
      ],
      "metadata": {
        "id": "0s01RrfqmE_f"
      }
    }
  ]
}